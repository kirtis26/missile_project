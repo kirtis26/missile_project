{
 "cells": [
  {
   "cell_type": "markdown",
   "id": "33afaf90",
   "metadata": {},
   "source": [
    "## import module"
   ]
  },
  {
   "cell_type": "code",
   "execution_count": 1,
   "id": "e1efef41",
   "metadata": {},
   "outputs": [],
   "source": [
    "import numpy as np\n",
    "from math import copysign\n",
    "import matplotlib.pyplot as plt\n",
    "from tqdm import tqdm\n",
    "from missile_gym import MissileGym\n",
    "import pickle"
   ]
  },
  {
   "cell_type": "code",
   "execution_count": 2,
   "id": "7a40dc97",
   "metadata": {},
   "outputs": [],
   "source": [
    "rc = {\"font.family\" : \"serif\", \n",
    "      \"mathtext.fontset\" : \"stix\"}\n",
    "plt.rcParams.update(rc)\n",
    "plt.rcParams[\"font.serif\"] = [\"Times New Roman\"] + plt.rcParams[\"font.serif\"]"
   ]
  },
  {
   "cell_type": "markdown",
   "id": "4e90036a",
   "metadata": {},
   "source": [
    "## options"
   ]
  },
  {
   "cell_type": "code",
   "execution_count": 3,
   "id": "1593cc11",
   "metadata": {},
   "outputs": [],
   "source": [
    "opts = {\n",
    "    'm_0': 2350,\n",
    "    'vel_abs': 1700,\n",
    "    't_marsh': 12.8,\n",
    "    'w_marsh': 1450,\n",
    "    'P_marsh': 300e3,\n",
    "    'dt': 0.05,\n",
    "    'tau': 1/10,\n",
    "    't_max': 165,\n",
    "    'I': 2500,\n",
    "    'r_kill': 50,\n",
    "    'alpha_max': 20,\n",
    "    'am': 5,\n",
    "    'dny': 1,\n",
    "    'init_conditions': {'V_0': 25, 'pos_0': (0, 20)},\n",
    "    'd': 0.515,\n",
    "    'L_korp': 8.298,\n",
    "    'L_cil': 5.519,\n",
    "    'L_korm': 0.135,\n",
    "    'L_oper': 1.25,\n",
    "    'L_kon1': 0.913,\n",
    "    'L_kon2': 1.731,\n",
    "    'b_0_oper': 1360 / 1e3,\n",
    "    'x_b_oper': 7.37,\n",
    "    'a': 0.2,\n",
    "    'betta_kon2': 1,\n",
    "    'd_korm': 0.490,\n",
    "    'c_oper': 0.03,\n",
    "    'khi_pk_oper': 55,\n",
    "    'khi_rul': 0.0,\n",
    "    'class_korp': 7,\n",
    "    'class_oper': 5,\n",
    "    'S_oper': 1.1,\n",
    "    'x_ct_0': 4.808396444826858,\n",
    "    'x_ct_marsh': 4.137372904870341,\n",
    "}"
   ]
  },
  {
   "cell_type": "markdown",
   "id": "05f8cfdb",
   "metadata": {},
   "source": [
    "## function"
   ]
  },
  {
   "cell_type": "code",
   "execution_count": 4,
   "id": "b8d48ebc",
   "metadata": {},
   "outputs": [],
   "source": [
    "def mass_minimize(combination, mis_opts, trg_pos, trg_vel):\n",
    "    \n",
    "    thrust, t_act = combination\n",
    "    \n",
    "    omega = thrust * t_act / I_1\n",
    "    mis_opts['m_0'] = omega + 750\n",
    "    mis_opts['t_marsh'] = t_act\n",
    "    mis_opts['w_marsh'] = omega\n",
    "    mis_opts['P_marsh'] = thrust\n",
    "    mis_opts['I'] = I_1\n",
    "\n",
    "    gym = MissileGym.make_simple_scenario(mis_opts, trg_pos, trg_vel)\n",
    "    \n",
    "    vel_array = []\n",
    "    done = False  \n",
    "    while not done:\n",
    "        obs, done, info = gym.step_with_guidance()\n",
    "        state = gym.get_state()\n",
    "        vel_array.append(float(gym.missile.get_summary()['v']))\n",
    "        \n",
    "    vel_abs = np.mean(vel_array)    \n",
    "    inf = info['done_reason']\n",
    "    mis_smry = gym.missile.get_summary()    \n",
    "    etta = thrust / (mis_opts['m_0'] * 9.80665)\n",
    "    \n",
    "    # P, t_act, m_0, w, inf, etta, x, y, t, v_mean, v\n",
    "    return np.array([thrust, \n",
    "                     t_act,\n",
    "                     mis_opts['m_0'],\n",
    "                     omega,\n",
    "                     inf,\n",
    "                     etta,\n",
    "                     mis_smry['x'],\n",
    "                     mis_smry['y'],\n",
    "                     mis_smry['t'],\n",
    "                     mis_smry['v'],\n",
    "                     vel_abs])"
   ]
  },
  {
   "cell_type": "code",
   "execution_count": 5,
   "id": "3408e119",
   "metadata": {},
   "outputs": [],
   "source": [
    "thrusts = np.linspace(250e3, 310e3, 30)\n",
    "ts_act = np.linspace(9, 15, 30)\n",
    "I_1 = 2550\n",
    "trg_pos = (200e3, 30e3)\n",
    "trg_vel = (0, 0)"
   ]
  },
  {
   "cell_type": "markdown",
   "id": "1b0f4f96",
   "metadata": {},
   "source": [
    "## variable options"
   ]
  },
  {
   "cell_type": "code",
   "execution_count": null,
   "id": "58cb7a05",
   "metadata": {},
   "outputs": [],
   "source": [
    "# через распараллеливание процесса на ядра\n",
    "from joblib import Parallel, delayed\n",
    "\n",
    "combinations = []\n",
    "for i in range(len(thrusts)):\n",
    "    for j in range(len(ts_act)):\n",
    "        combination = thrusts[i], ts_act[j]\n",
    "        combinations.append(combination)\n",
    "        \n",
    "out = Parallel(n_jobs=12, verbose=10)(delayed(mass_minimize)(combination, opts, trg_pos, trg_vel) for combination in combinations)"
   ]
  },
  {
   "cell_type": "code",
   "execution_count": null,
   "id": "487fc78a",
   "metadata": {},
   "outputs": [],
   "source": [
    "with open('saves/mass_minimize.bin', 'wb') as f:\n",
    "    pickle.dump(out, f)"
   ]
  },
  {
   "cell_type": "code",
   "execution_count": null,
   "id": "57662a50",
   "metadata": {},
   "outputs": [],
   "source": [
    "# перебор на одном ядре\n",
    "variable = []\n",
    "for i in tqdm(range(len(thrusts))):\n",
    "    for j in range(len(ts_act)):\n",
    "        combination = thrusts[i], ts_act[j]\n",
    "        res = mass_minimize(combination, opts, trg_pos, trg_vel)\n",
    "        print(res)\n",
    "        res_hit.append(res)"
   ]
  },
  {
   "cell_type": "code",
   "execution_count": null,
   "id": "6d639cce",
   "metadata": {},
   "outputs": [],
   "source": [
    "with open('saves/mass_minimize.bin', 'wb') as f:\n",
    "    pickle.dump(res_hit, f)"
   ]
  },
  {
   "cell_type": "markdown",
   "id": "c2d6e6c4",
   "metadata": {},
   "source": [
    "## vizualizing"
   ]
  },
  {
   "cell_type": "code",
   "execution_count": 6,
   "id": "cebdb820",
   "metadata": {},
   "outputs": [],
   "source": [
    "with open('saves/mass_minimize.bin', 'rb') as f:\n",
    "    res_hit = pickle.load(f)"
   ]
  },
  {
   "cell_type": "code",
   "execution_count": 10,
   "id": "c11d91a5",
   "metadata": {},
   "outputs": [],
   "source": [
    "mass_max = 2100\n",
    "vel_min = 1500\n",
    "etta_max = 14\n",
    "l_gr_max = 3.5\n",
    "\n",
    "arr1_thrust = []\n",
    "arr1_t_act = []\n",
    "arr2_thrust = []\n",
    "arr2_t_act = []\n",
    "arr3_thrust = []\n",
    "arr3_t_act = []\n",
    "arr4_thrust = []\n",
    "arr4_t_act = []\n",
    "arr5_thrust = []\n",
    "arr5_t_act = []\n",
    "arr5_w = []\n",
    "\n",
    "for i in range(len(res_hit)):\n",
    "    \n",
    "    l_gr = float(res_hit[i][3]) / (1850 * np.pi * (0.520**2) / 4) \n",
    "    \n",
    "    if l_gr > l_gr_max:\n",
    "        arr1_thrust.append(float(res_hit[i][0]))\n",
    "        arr1_t_act.append(float(res_hit[i][1]))\n",
    "    elif float(res_hit[i][2]) > mass_max:\n",
    "        arr2_thrust.append(float(res_hit[i][0]))\n",
    "        arr2_t_act.append(float(res_hit[i][1]))\n",
    "    elif float(res_hit[i][5]) > etta_max:\n",
    "        arr3_thrust.append(float(res_hit[i][0]))\n",
    "        arr3_t_act.append(float(res_hit[i][1]))\n",
    "    elif float(res_hit[i][-1]) < vel_min:\n",
    "        arr4_thrust.append(float(res_hit[i][0]))\n",
    "        arr4_t_act.append(float(res_hit[i][1]))\n",
    "    else:\n",
    "        arr5_thrust.append(float(res_hit[i][0]))\n",
    "        arr5_t_act.append(float(res_hit[i][1]))\n",
    "        arr5_w.append(float(res_hit[i][3]))"
   ]
  },
  {
   "cell_type": "code",
   "execution_count": 69,
   "id": "4f8cc849",
   "metadata": {},
   "outputs": [],
   "source": [
    "from matplotlib import cm\n",
    "from matplotlib.colors import ListedColormap\n",
    "\n",
    "pubu_r = cm.get_cmap('PuBu_r', 256)\n",
    "newcolors = pubu_r(np.linspace(0.01, 1, 256))\n",
    "newcolors[:25, :] = cm.get_cmap('winter_r', 100)(np.linspace(0.1, 0.35, 25))\n",
    "newcmp = ListedColormap(newcolors)"
   ]
  },
  {
   "cell_type": "code",
   "execution_count": 29,
   "id": "1623eb1b",
   "metadata": {},
   "outputs": [],
   "source": [
    "omega = np.min(arr5_w) \n",
    "ind = np.argmin(arr5_w)\n",
    "thrust = arr5_thrust[ind]\n",
    "t_act = arr5_t_act[ind] \n",
    "opts['m_0'] = omega + 750\n",
    "opts['t_marsh'] = t_act\n",
    "opts['w_marsh'] = omega\n",
    "opts['P_marsh'] = thrust\n",
    "opts['I'] = I_1"
   ]
  },
  {
   "cell_type": "code",
   "execution_count": 21,
   "id": "ace1226d",
   "metadata": {},
   "outputs": [
    {
     "data": {
      "text/plain": [
       "13.830298552955314"
      ]
     },
     "execution_count": 21,
     "metadata": {},
     "output_type": "execute_result"
    }
   ],
   "source": [
    "thrust / (opts['m_0'] * 9.80665) # тяговооруженность ДУ"
   ]
  },
  {
   "cell_type": "code",
   "execution_count": 82,
   "id": "18f3b4d0",
   "metadata": {},
   "outputs": [
    {
     "data": {
      "image/png": "[encoded data removed]",
      "text/plain": [
       "<Figure size 900x750 with 2 Axes>"
      ]
     },
     "metadata": {
      "needs_background": "light"
     },
     "output_type": "display_data"
    }
   ],
   "source": [
    "fontsize = 12\n",
    "s = 70\n",
    "alpha = 0.4\n",
    "# -----------------------------------------\n",
    "fig = plt.figure(figsize=(6,5), dpi=150)\n",
    "# -----------------------------------------\n",
    "plt.scatter(arr1_thrust, arr1_t_act,\n",
    "            marker = 's',\n",
    "            color = 'red',\n",
    "            label = '$l$ < $l_{макс}$',\n",
    "            s = s,\n",
    "            alpha = alpha)\n",
    "plt.scatter(arr2_thrust, arr2_t_act,\n",
    "            marker = 's',\n",
    "            color = 'darkred',\n",
    "            label = '$m$ > $m_{макс}$',\n",
    "            s = s,\n",
    "            alpha = alpha)\n",
    "plt.scatter(arr3_thrust, arr3_t_act,\n",
    "            marker = 's',\n",
    "            color = 'purple',\n",
    "            label = r'$\\eta$ > $\\eta$$_{макс}$',\n",
    "            s = s,\n",
    "            alpha = alpha)\n",
    "plt.scatter(arr4_thrust, arr4_t_act,\n",
    "            marker = 's',\n",
    "            color = 'darkorange',\n",
    "            label = '$v$ < $v_{ср}$',\n",
    "            s = s,\n",
    "            alpha = alpha)\n",
    "# -----------------------------------------\n",
    "ax = plt.scatter(arr5_thrust, arr5_t_act, c=arr5_w,\n",
    "                 cmap=newcmp,\n",
    "                 edgecolor='k',\n",
    "                 marker = 's',\n",
    "                 s = s,\n",
    "                 alpha = 0.9)\n",
    "cb = plt.colorbar(ax)\n",
    "cb.set_label('$\\omega$, кг', fontsize=fontsize)\n",
    "cb.ax.tick_params(labelsize=fontsize)\n",
    "cb.ax.locator_params(nbins=10)\n",
    "# -----------------------------------------\n",
    "plt.scatter(thrust,\n",
    "            t_act,\n",
    "            marker = 's',\n",
    "            color = 'r',\n",
    "            edgecolor='k',\n",
    "            label = 'min($\\omega$)',\n",
    "            s = s)\n",
    "# -----------------------------------------\n",
    "plt.tick_params(labelsize=fontsize)\n",
    "plt.ylabel('$t_{марш}$, с', fontsize=fontsize)\n",
    "plt.xlabel('$P$, Н', fontsize=fontsize)\n",
    "plt.legend(loc=1,\n",
    "           fontsize = 12,\n",
    "           bbox_to_anchor=(.98, .98),\n",
    "           edgecolor ='grey')\n",
    "# -----------------------------------------\n",
    "plt.savefig('pictures/Обратная_задача.png', dpi=300, bbox_inches='tight')\n",
    "plt.show()"
   ]
  }
 ],
 "metadata": {
  "kernelspec": {
   "display_name": "Python 3 (ipykernel)",
   "language": "python",
   "name": "python3"
  },
  "language_info": {
   "codemirror_mode": {
    "name": "ipython",
    "version": 3
   },
   "file_extension": ".py",
   "mimetype": "text/x-python",
   "name": "python",
   "nbconvert_exporter": "python",
   "pygments_lexer": "ipython3",
   "version": "3.9.7"
  }
 },
 "nbformat": 4,
 "nbformat_minor": 5
}
