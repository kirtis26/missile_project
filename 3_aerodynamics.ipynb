{
 "cells": [
  {
   "cell_type": "markdown",
   "id": "33afaf90",
   "metadata": {},
   "source": [
    "## import module"
   ]
  },
  {
   "cell_type": "code",
   "execution_count": 103,
   "id": "e1efef41",
   "metadata": {},
   "outputs": [],
   "source": [
    "import numpy as np\n",
    "from math import copysign\n",
    "import matplotlib.pyplot as plt\n",
    "from tqdm import tqdm\n",
    "from missile_gym import MissileGym\n",
    "from aero_info import *\n",
    "import pickle\n",
    "from matplotlib.pylab import subplot2grid\n",
    "import ipywidgets\n",
    "from ipywidgets import interact"
   ]
  },
  {
   "cell_type": "code",
   "execution_count": 104,
   "id": "7a40dc97",
   "metadata": {},
   "outputs": [],
   "source": [
    "rc = {\"font.family\" : \"serif\", \n",
    "      \"mathtext.fontset\" : \"stix\"}\n",
    "plt.rcParams.update(rc)\n",
    "plt.rcParams[\"font.serif\"] = [\"Times New Roman\"] + plt.rcParams[\"font.serif\"]"
   ]
  },
  {
   "cell_type": "markdown",
   "id": "3a07601d",
   "metadata": {},
   "source": [
    "## analasys mass"
   ]
  },
  {
   "cell_type": "code",
   "execution_count": 105,
   "id": "09ce9d2b",
   "metadata": {},
   "outputs": [],
   "source": [
    "# длины отсеков\n",
    "L_1, L_2, L_3, L_4, L_5 = 0.66693, 0.19608, 0.17479, 1.45209, 0.21012"
   ]
  },
  {
   "cell_type": "code",
   "execution_count": 106,
   "id": "312054c4",
   "metadata": {},
   "outputs": [],
   "source": [
    "# массы отсеков\n",
    "Q1, Q2, Q3, Q5 = 28.5, 22, 11, 8.5\n",
    "Q_воспл = 5"
   ]
  },
  {
   "cell_type": "code",
   "execution_count": 107,
   "id": "a4810448",
   "metadata": {},
   "outputs": [],
   "source": [
    "# из расчета РДТТ\n",
    "w_marsh = 59.6\n",
    "α_д = 0.255\n",
    "Q4 = 74.71285\n",
    "Q4_пуст = Q4 - w_marsh"
   ]
  },
  {
   "cell_type": "code",
   "execution_count": 108,
   "id": "c06933f9",
   "metadata": {},
   "outputs": [
    {
     "data": {
      "text/plain": [
       "(2.70001, 0.86301, 1.7960000000000003)"
      ]
     },
     "execution_count": 108,
     "metadata": {},
     "output_type": "execute_result"
    }
   ],
   "source": [
    "L_korm = 41 / 1e3\n",
    "d = 0.200\n",
    "d_korm = 0.19304\n",
    "\n",
    "L_korp = L_1 + L_2 + L_3 + L_4 + L_5\n",
    "L_cil = (L_3 + L_4 + L_5 - L_korm)\n",
    "L_nos = L_1 + L_2\n",
    "L_korp, L_nos, L_cil"
   ]
  },
  {
   "cell_type": "code",
   "execution_count": 109,
   "id": "e3b50b7e",
   "metadata": {},
   "outputs": [
    {
     "data": {
      "text/plain": [
       "149.71285"
      ]
     },
     "execution_count": 109,
     "metadata": {},
     "output_type": "execute_result"
    }
   ],
   "source": [
    "# масса ракеты\n",
    "Q1 + Q2 + Q3 + Q4 + Q_воспл + Q5"
   ]
  },
  {
   "cell_type": "code",
   "execution_count": 110,
   "id": "35089869",
   "metadata": {},
   "outputs": [
    {
     "data": {
      "text/plain": [
       "90.11285000000001"
      ]
     },
     "execution_count": 110,
     "metadata": {},
     "output_type": "execute_result"
    }
   ],
   "source": [
    "# масса ракеты пустая\n",
    "Q1 + Q2 + Q3 + Q4_пуст + Q_воспл + Q5"
   ]
  },
  {
   "cell_type": "code",
   "execution_count": 111,
   "id": "0f402b5c",
   "metadata": {},
   "outputs": [
    {
     "data": {
      "text/plain": [
       "(0.38110285714285713, 0.76497, 0.9379200000000001, 1.6601242857142857, 2.55993)"
      ]
     },
     "execution_count": 111,
     "metadata": {},
     "output_type": "execute_result"
    }
   ],
   "source": [
    "# центры масс отсеков\n",
    "x_ct1 = L_1 * 4/7\n",
    "x_ct2 = L_1 + L_2/2\n",
    "x_ct3 = L_1 + L_2 + L_3 * 3/7\n",
    "x_ct4 = L_1 + L_2 + L_3 + L_4 * 3/7\n",
    "x_ct5 = L_1 + L_2 + L_3 + L_4 + L_5/3\n",
    "x_ct1, x_ct2, x_ct3, x_ct4, x_ct5"
   ]
  },
  {
   "cell_type": "code",
   "execution_count": 112,
   "id": "aec8591b",
   "metadata": {},
   "outputs": [
    {
     "data": {
      "text/plain": [
       "(1.2701008456989133, 0.9969881838045439)"
      ]
     },
     "execution_count": 112,
     "metadata": {},
     "output_type": "execute_result"
    }
   ],
   "source": [
    "# центры масс ракеты в характерных точках\n",
    "x_ct_0 = (Q1 * x_ct1 + Q2 * x_ct2 + Q3 * x_ct3 + Q4 * x_ct4 + Q5 * x_ct5) / (Q1 + Q2 + Q3 + Q4 + Q5)\n",
    "x_ct_marsh = (Q1 * x_ct1 + Q2 * x_ct2 + Q3 * x_ct3 + Q4_пуст * x_ct4 + Q5 * x_ct5) / (Q1 + Q2 + Q3 + Q4_пуст + Q5)\n",
    "x_ct_0, x_ct_marsh"
   ]
  },
  {
   "cell_type": "code",
   "execution_count": 113,
   "id": "8e037663",
   "metadata": {},
   "outputs": [
    {
     "data": {
      "text/plain": [
       "(-0.8889979885560562,\n",
       " -0.5051308456989133,\n",
       " -0.33218084569891326,\n",
       " 0.39002344001537237,\n",
       " 1.2898291543010867)"
      ]
     },
     "execution_count": 113,
     "metadata": {},
     "output_type": "execute_result"
    }
   ],
   "source": [
    "x_ct1 - x_ct_0, x_ct2 - x_ct_0, x_ct3 - x_ct_0, x_ct4 - x_ct_0, x_ct5 - x_ct_0"
   ]
  },
  {
   "cell_type": "code",
   "execution_count": 114,
   "id": "6004a275",
   "metadata": {},
   "outputs": [
    {
     "data": {
      "text/plain": [
       "(-0.6158853266616868,\n",
       " -0.23201818380454386,\n",
       " -0.05906818380454382,\n",
       " 0.6631361019097418,\n",
       " 1.562941816195456)"
      ]
     },
     "execution_count": 114,
     "metadata": {},
     "output_type": "execute_result"
    }
   ],
   "source": [
    "x_ct1 - x_ct_marsh, x_ct2 - x_ct_marsh, x_ct3 - x_ct_marsh, x_ct4 - x_ct_marsh, x_ct5 - x_ct_marsh"
   ]
  },
  {
   "cell_type": "code",
   "execution_count": 115,
   "id": "3d1a0b2b",
   "metadata": {},
   "outputs": [
    {
     "data": {
      "text/plain": [
       "54.85758371788877"
      ]
     },
     "execution_count": 115,
     "metadata": {},
     "output_type": "execute_result"
    }
   ],
   "source": [
    "I1 = Q1 * (x_ct1 - x_ct_0) ** 2\n",
    "I2 = Q2 * (x_ct2 - x_ct_0) ** 2\n",
    "I3 = Q3 * (x_ct3 - x_ct_0) ** 2\n",
    "I4 = Q4 * (x_ct4 - x_ct_0) ** 2\n",
    "I5 = Q5 * (x_ct5 - x_ct_0) ** 2\n",
    "I0 = I1 + I2 + I3 + I4 + I5\n",
    "I0"
   ]
  },
  {
   "cell_type": "code",
   "execution_count": 116,
   "id": "22bf49d1",
   "metadata": {},
   "outputs": [
    {
     "data": {
      "text/plain": [
       "39.44272174744154"
      ]
     },
     "execution_count": 116,
     "metadata": {},
     "output_type": "execute_result"
    }
   ],
   "source": [
    "I1пуст = Q1 * (x_ct1 - x_ct_marsh) ** 2\n",
    "I2пуст = Q2 * (x_ct2 - x_ct_marsh) ** 2\n",
    "I3пуст = Q3 * (x_ct3 - x_ct_marsh) ** 2\n",
    "I4пуст = Q4_пуст * (x_ct4 - x_ct_marsh) ** 2\n",
    "I5пуст = (Q5) * (x_ct5 - x_ct_marsh) ** 2\n",
    "Iпуст = I1пуст + I2пуст + I3пуст + I4пуст + I5пуст\n",
    "Iпуст"
   ]
  },
  {
   "cell_type": "code",
   "execution_count": 117,
   "id": "72df695e",
   "metadata": {},
   "outputs": [
    {
     "data": {
      "text/plain": [
       "10.115246309990313"
      ]
     },
     "execution_count": 117,
     "metadata": {},
     "output_type": "execute_result"
    }
   ],
   "source": [
    "# разбежка центра масс\n",
    "razbezhka = (x_ct_0 - x_ct_marsh) / L_korp * 100\n",
    "razbezhka"
   ]
  },
  {
   "cell_type": "markdown",
   "id": "03524490",
   "metadata": {},
   "source": [
    "### 2.2. Определение АД характеристик на траектории полета полученного профиля скорости"
   ]
  },
  {
   "cell_type": "markdown",
   "id": "1188f1c6",
   "metadata": {},
   "source": [
    "## function"
   ]
  },
  {
   "cell_type": "code",
   "execution_count": 118,
   "id": "f36c49df",
   "metadata": {},
   "outputs": [],
   "source": [
    "with open('saves/opts.bin', 'rb') as f:\n",
    "    opts = pickle.load(f)"
   ]
  },
  {
   "cell_type": "code",
   "execution_count": 119,
   "id": "0573c2ef",
   "metadata": {},
   "outputs": [],
   "source": [
    "with open('saves/data_hit.bin', 'rb') as f:\n",
    "    res_hit = pickle.load(f)"
   ]
  },
  {
   "cell_type": "code",
   "execution_count": 120,
   "id": "5a8a1362",
   "metadata": {},
   "outputs": [],
   "source": [
    "def get_P(t):\n",
    "    if t < opts['t']:\n",
    "        return opts['P']\n",
    "    else:\n",
    "        return 0"
   ]
  },
  {
   "cell_type": "code",
   "execution_count": 121,
   "id": "e9806e31",
   "metadata": {},
   "outputs": [],
   "source": [
    "def get_x_ct(t):\n",
    "    dx_ct = abs(x_ct_0 - x_ct_marsh) / opts['t']\n",
    "    if t < opts['t']:\n",
    "        return x_ct_0 - dx_ct * t\n",
    "    else:\n",
    "        return x_ct_marsh"
   ]
  },
  {
   "cell_type": "code",
   "execution_count": 122,
   "id": "2134cc15",
   "metadata": {},
   "outputs": [],
   "source": [
    "def aero_coef(state):\n",
    "    \"\"\"\n",
    "    Ф-ция расчёта аэродинамических коэффициентов ракеты в состоянии state\n",
    "    arguments: state {np.ndarray}             -- состояние ракеты:\n",
    "                                                 [v,   x, y, Q,       alpha,   t]\n",
    "                                                 [м/с, м, м, радианы, градусы, с]\n",
    "    return: {dict}                            -- словарь с АД коэф-тами \n",
    "    \"\"\" \n",
    "    \n",
    "    v, x, y, alpha, t = state\n",
    "    Mach = v / table_atm(y, 4)\n",
    "    nyu = table_atm(y, 6)\n",
    "    x_ct = get_x_ct(t)\n",
    "    Re_korp_f = v * L_korp / nyu\n",
    "    Re_korp_t = table_4_5(Mach, Re_korp_f, class_korp, L_korp)\n",
    "    \n",
    "    # Коэф-т подъемной силы корпуса\n",
    "    if Mach <= 1:\n",
    "        Cy_alpha_nos = 2 / 57.3 * (1 + 0.27 * Mach**2)\n",
    "    else:\n",
    "        Cy_alpha_nos = Cy_alpha_nos_cil(2, Mach, lambd_nos, lambd_cil)\n",
    "    Cy_alpha_korm = - 2 / 57.3 * (1 - nu_korm ** 2) * a\n",
    "    Cy_alpha_korp = Cy_alpha_nos + Cy_alpha_korm  \n",
    "    \n",
    "    # Коэф-т подъемной силы оперения по углу атаки\n",
    "    K_t_oper = table_3_21(Mach, lambd_nos)\n",
    "    Cy_alpha_k_oper = Cy_alpha_iz_kr(Mach * np.sqrt(K_t_oper), lambd_oper, c_oper, tg_khi_05_oper)\n",
    "    k_aa_oper = (1 + 0.41 * D_oper)**2 * ((1 + 3 * D_oper - 1 / nu_k_oper * D_oper * (1 - D_oper)) / (1 + D_oper)**2)\n",
    "    K_aa_oper = 1 + 3 * D_oper - (D_oper * (1 - D_oper)) / nu_k_oper\n",
    "    delta_ps = 0.093 / ((v*L1/nyu)**0.2) * L1 / d * (1 + 0.4*Mach + 0.147*Mach**2 - 0.006*Mach**3)\n",
    "    khi_ps = (1 - 2 * D_oper**2 * delta_ps / (1 - D_oper**2)) * (1 - D_oper * (nu_k_oper - 1) / ((1 - D_oper) * (1 + nu_k_oper)) * delta_ps)\n",
    "    khi_nos = 0.6 + 0.4 * (1 - np.exp(-0.5 * L1 / d))\n",
    "    K_aa_oper_ = K_aa_oper * khi_ps * khi_nos * 0.87\n",
    "    Cy_alpha_oper = Cy_alpha_k_oper * K_aa_oper_\n",
    "    \n",
    "    # Коэф-т подъемной силы стабилизаторов по углу атаки\n",
    "    K_t_stab = table_3_21(Mach, lambd_nos)\n",
    "    Cy_alpha_k_stab = Cy_alpha_iz_kr(Mach * np.sqrt(K_t_stab), lambd_stab, c_stab, tg_khi_05_stab)\n",
    "    k_aa_stab = (1 + 0.41 * D_stab)**2 * ((1 + 3 * D_stab - 1 / nu_k_stab * D_stab * (1 - D_stab)) / (1 + D_stab)**2)\n",
    "    K_aa_stab = 1 + 3 * D_stab - (D_stab * (1 - D_stab)) / nu_k_stab\n",
    "    delta_ps = 0.093 / ((v*L1/nyu)**0.2) * L1 / d * (1 + 0.4*Mach + 0.147*Mach**2 - 0.006*Mach**3)\n",
    "    khi_ps = (1 - 2 * D_stab**2 * delta_ps / (1 - D_stab**2)) * (1 - D_stab * (nu_k_stab - 1) / ((1 - D_stab) * (1 + nu_k_stab)) * delta_ps)\n",
    "    khi_nos = 0.6 + 0.4 * (1 - np.exp(-0.5 * L1 / d))\n",
    "    K_aa_stab_ = K_aa_stab * khi_ps * khi_nos * 0.87\n",
    "    Cy_alpha_stab = Cy_alpha_k_stab * K_aa_stab_\n",
    "    \n",
    "    # Коэф-т подъемной силы оперения (рулей) по углу их отклонения\n",
    "    K_delt_0_oper = k_aa_oper\n",
    "    k_delt_0_oper = k_aa_oper ** 2 / K_aa_oper\n",
    "    if Mach <= 1:\n",
    "        k_shch = 0.825\n",
    "    elif 1 < Mach <= 1.4:\n",
    "        k_shch = 0.85 + 0.15 * (Mach - 1) / 0.4\n",
    "    else:\n",
    "        k_shch = 0.975\n",
    "    n_eff = k_shch * np.cos(np.radians(khi_rul))\n",
    "    Сy_delt_oper = Cy_alpha_k_oper * K_delt_0_oper * n_eff\n",
    "    \n",
    "    # Коэф-т подъемной силы ракеты\n",
    "    Cy_alpha = Cy_alpha_korp * (S_mid / S_mid)  + Cy_alpha_oper * (S_oper / S_mid) * K_t_oper + Cy_alpha_stab * (S_stab / S_mid)\n",
    "    \n",
    "    # Сопротивление корпуса\n",
    "    x_t = Re_korp_t * nyu / v\n",
    "    x_t_ = x_t / L_korp\n",
    "    Cx_f_ = table_4_2(Re_korp_f, x_t_) / 2\n",
    "    nu_m = table_4_3(Mach, x_t_)\n",
    "    nu_c = 1 + 1 / lambd_nos\n",
    "    Cx_tr = Cx_f_ * (F_f / S_mid) * nu_m * nu_c\n",
    "    \n",
    "    if Mach >= 1.5:\n",
    "        p_kon_ = (0.0016 + 0.002 / (Mach**2)) * betta_kon1**1.7\n",
    "        Cx_nos = p_kon_ * (1 - (14 - 1.143 / (lambd_nos**2)) / (Mach + 18))\n",
    "    else:\n",
    "        Cx_nos = table_4_11(Mach, lambd_nos)\n",
    "\n",
    "    Cx_korm = table_4_24(Mach, nu_korm, lambd_korm)\n",
    "    \n",
    "    if get_P(t) == 0:\n",
    "        p_dno_ = table_p_dno_(Mach, oper=True)\n",
    "        K_nu = table_k_nu(nu_korm, lambd_korm, Mach)\n",
    "        Cx_dno = p_dno_ * K_nu * (S_dno / S_mid)\n",
    "    else:\n",
    "        Cx_dno = 0\n",
    "    Cx_0_korp = Cx_tr + Cx_nos + Cx_korm + Cx_dno\n",
    "    \n",
    "    if Mach < 1:\n",
    "        phi = -0.2\n",
    "    else:\n",
    "        phi = 0.7\n",
    "    Cx_ind_korp = Cy_alpha_korp * alpha**2 * ((1 + phi) / 57.3)\n",
    "    \n",
    "    Cx_korp = Cx_0_korp + Cx_ind_korp\n",
    "     \n",
    "    # Сопротивление оперения\n",
    "    Re_oper_f = v * b_a_oper / nyu\n",
    "    Re_oper_t = table_4_5(Mach, Re_oper_f, class_oper, b_a_oper)\n",
    "    x_t_oper = Re_oper_t / Re_oper_f\n",
    "    C_f_oper = table_4_2(Re_oper_f, x_t_oper)\n",
    "    nu_c_oper = table_4_28(x_t_oper, c_oper)\n",
    "    Cx_oper_prof = C_f_oper * nu_c_oper\n",
    "    \n",
    "    if Mach < 1.1:\n",
    "        Cx_oper_voln = table_4_30(Mach, nu_k_oper, lambd_oper, tg_khi_05_oper, c_oper)\n",
    "    else:\n",
    "        phi = table_4_32(Mach, tg_khi_05_oper)\n",
    "        Cx_oper_voln = (table_4_30(Mach, nu_k_oper, lambd_oper, tg_khi_05_oper, c_oper)) * (1 + phi * (K_oper - 1))\n",
    "        \n",
    "    Cx_0_oper = Cx_oper_prof + Cx_oper_voln\n",
    "    \n",
    "    if Mach * np.cos(np.radians(khi_pk_oper)) > 1:\n",
    "        Cx_ind_oper = (Cy_alpha_oper * alpha) * np.tan(np.radians(alpha))\n",
    "    else:\n",
    "        Cx_ind_oper = 0.38 * (Cy_alpha_oper * alpha)**2 / (lambd_oper - 0.8 * (Cy_alpha_oper * alpha) * (lambd_oper - 1)) * ((lambd_oper / np.cos(np.radians(khi_pk_oper)) + 4) / (lambd_oper + 4))\n",
    "        \n",
    "    Cx_oper = Cx_0_oper + Cx_ind_oper\n",
    "    \n",
    "    # Сопротивление стабилизаторов\n",
    "    Re_stab_f = v * b_a_stab / nyu\n",
    "    Re_stab_t = table_4_5(Mach, Re_stab_f, class_stab, b_a_stab)\n",
    "    x_t_stab = Re_stab_t / Re_stab_f\n",
    "    C_f_stab = table_4_2(Re_stab_f, x_t_stab)\n",
    "    nu_c_stab = table_4_28(x_t_stab, c_stab)\n",
    "    Cx_stab_prof = C_f_stab * nu_c_stab\n",
    "    \n",
    "    if Mach < 1.1:\n",
    "        Cx_stab_voln = table_4_30(Mach, nu_k_stab, lambd_stab, tg_khi_05_stab, c_stab)\n",
    "    else:\n",
    "        phi = table_4_32(Mach, tg_khi_05_stab)\n",
    "        Cx_stab_voln = (table_4_30(Mach, nu_k_stab, lambd_stab, tg_khi_05_stab, c_stab)) * (1 + phi * (K_stab - 1))\n",
    "        \n",
    "    Cx_0_stab = Cx_stab_prof + Cx_stab_voln\n",
    "    \n",
    "    if Mach * np.cos(np.radians(khi_pk_stab)) > 1:\n",
    "        Cx_ind_stab = (Cy_alpha_stab * alpha) * np.tan(np.radians(alpha))\n",
    "    else:\n",
    "        Cx_ind_stab = 0.38 * (Cy_alpha_stab * alpha)**2 / (lambd_stab - 0.8 * (Cy_alpha_stab * alpha) * (lambd_stab - 1)) * ((lambd_stab / np.cos(np.radians(khi_pk_stab)) + 4) / (lambd_stab + 4))\n",
    "        \n",
    "    Cx_stab = Cx_0_stab + Cx_ind_stab\n",
    "    \n",
    "    Cx_0 = 1.05 * (Cx_0_korp * (S_mid / S_mid) + Cx_0_oper * K_t_oper * (S_oper / S_mid) + Cx_0_stab * K_t_stab * (S_stab / S_mid))\n",
    "    Cx_ind = Cx_ind_korp * (S_mid / S_mid) + Cx_ind_oper * (S_oper / S_mid) * K_t_oper\n",
    "    Cx = Cx_0 + Cx_ind + Cx_stab\n",
    "        \n",
    "    # Центр давления корпуса\n",
    "    delta_x_f = F_iz_korp(Mach, lambd_nos, lambd_cil, L_nos)\n",
    "    x_fa_nos_cil = L_nos - W_nos / S_mid + delta_x_f\n",
    "    x_fa_korm = L_korp - 0.5 * L_korm   \n",
    "    x_fa_korp = 1 / Cy_alpha_korp * (Cy_alpha_nos * x_fa_nos_cil + Cy_alpha_korm * x_fa_korm)\n",
    "    \n",
    "    # Фокус оперения по углу атаки\n",
    "    x_f_iz_oper_ = F_iz_kr(Mach, lambd_k_oper, tg_khi_05_oper, nu_k_oper)\n",
    "    x_f_iz_oper = x_b_a_oper + b_a_oper * x_f_iz_oper_\n",
    "    f1 = table_5_11(D_oper, L_k_oper)\n",
    "    x_f_delt_oper = x_f_iz_oper - tg_khi_05_oper * f1\n",
    "    if Mach > 1:\n",
    "        b__b_oper = b_b_oper / (np.pi / 2 * d * np.sqrt(Mach ** 2 - 1))\n",
    "        L__hv_oper = L_hv_oper / (np.pi * d * np.sqrt(Mach ** 2 - 1))\n",
    "        c_const_oper = (4 + 1 / nu_k_oper) * (1 + 8 * D_oper ** 2)\n",
    "        F_1_oper = 1 - 1 / (c_const_oper * b__b_oper ** 2) * (1 - np.exp(-c_const_oper * b__b_oper ** 2))\n",
    "        F_oper = 1 - np.sqrt(np.pi) / (2 * b__b_oper * np.sqrt(c_const_oper)) * (table_int_ver((b__b_oper + L__hv_oper) *\\\n",
    "                np.sqrt(2 * c_const_oper)) - table_int_ver(L__hv_oper * np.sqrt(2 * c_const_oper)))\n",
    "        x_f_b_oper_ = x_f_iz_oper_ + 0.02 * lambd_oper * tg_khi_05_oper\n",
    "        x_f_ind_oper = x_b_oper + b_b_oper * x_f_b_oper_ * F_oper * F_1_oper\n",
    "        x_fa_oper = 1 / K_aa_oper * (x_f_iz_oper + (k_aa_oper - 1) * x_f_delt_oper + (K_aa_oper - k_aa_oper) * x_f_ind_oper)\n",
    "    else:\n",
    "        x_f_b_oper_ = x_f_iz_oper_ + 0.02 * lambd_oper * tg_khi_05_oper\n",
    "        x_f_ind_oper = x_b_oper + b_b_oper * x_f_b_oper_\n",
    "        x_fa_oper = 1 / K_aa_oper * (x_f_iz_oper + (k_aa_oper - 1) * x_f_delt_oper + (K_aa_oper - k_aa_oper) * x_f_ind_oper)\n",
    "    \n",
    "    # Фокус стабилизаторов по углу атаки\n",
    "    x_f_iz_stab_ = F_iz_kr(Mach, lambd_k_stab, tg_khi_05_stab, nu_k_stab)\n",
    "    x_f_iz_stab = x_b_a_stab + b_a_stab * x_f_iz_stab_\n",
    "    f1 = table_5_11(D_stab, L_k_stab)\n",
    "    x_f_delt_stab = x_f_iz_stab - tg_khi_05_stab * f1\n",
    "    if Mach > 1:\n",
    "        b__b_stab = b_b_stab / (np.pi / 2 * d * np.sqrt(Mach ** 2 - 1))\n",
    "        L__hv_stab = L_hv_stab / (np.pi * d * np.sqrt(Mach ** 2 - 1))\n",
    "        c_const_stab = (4 + 1 / nu_k_stab) * (1 + 8 * D_stab ** 2)\n",
    "        F_1_stab = 1 - 1 / (c_const_stab * b__b_stab ** 2) * (1 - np.exp(-c_const_stab * b__b_stab ** 2))\n",
    "        F_stab = 1 - np.sqrt(np.pi) / (2 * b__b_stab * np.sqrt(c_const_stab)) * (table_int_ver((b__b_stab + L__hv_stab) * np.sqrt(2 * c_const_stab)) - table_int_ver(L__hv_stab * np.sqrt(2 * c_const_stab)))\n",
    "        x_f_b_stab_ = x_f_iz_stab_ + 0.02 * lambd_stab * tg_khi_05_stab\n",
    "        x_f_ind_stab = x_b_stab + b_b_stab * x_f_b_stab_ * F_stab * F_1_stab\n",
    "        x_fa_stab = 1 / K_aa_stab * (x_f_iz_stab + (k_aa_stab - 1) * x_f_delt_stab + (K_aa_stab - k_aa_stab) * x_f_ind_stab)\n",
    "    else:\n",
    "        x_f_b_stab_ = x_f_iz_stab_ + 0.02 * lambd_stab * tg_khi_05_stab\n",
    "        x_f_ind_stab = x_b_stab + b_b_stab * x_f_b_stab_\n",
    "        x_fa_stab = 1 / K_aa_stab * (x_f_iz_stab + (k_aa_stab - 1) * x_f_delt_stab + (K_aa_stab - k_aa_stab) * x_f_ind_stab)\n",
    "        \n",
    "    # Фокус оперения по углу отклонения\n",
    "    x_fd_oper = 1 / K_delt_0_oper * (k_delt_0_oper * x_f_iz_oper + (K_delt_0_oper - k_delt_0_oper) * x_f_ind_oper)\n",
    "    \n",
    "    # Фокус ракеты\n",
    "    x_fa = 1 / Cy_alpha * ((Cy_alpha_korp * (S_mid / S_mid) * x_fa_korp) + Cy_alpha_oper * (S_oper / S_mid) * x_fa_oper * K_t_oper + Cy_alpha_stab * (S_stab / S_mid) * x_fa_stab * K_t_stab)\n",
    "    \n",
    "    # Демпфирующие моменты АД поверхностей\n",
    "    x_c_ob = L_korp * ((2 * (lambd_nos + lambd_cil)**2 - lambd_nos**2) / (4 * (lambd_nos + lambd_cil) * (lambd_nos + lambd_cil - 2 / 3 * lambd_nos)))\n",
    "    m_z_wz_korp = - 2 * (1 - x_ct / L_korp + (x_ct / L_korp) ** 2 - x_c_ob / L_korp)\n",
    "\n",
    "    x_ct_oper_ = (x_ct - x_b_a_oper) / b_a_oper\n",
    "    mz_wz_cya_iz_kr = table_5_15(nu_oper, lambd_oper, tg_khi_05_oper, Mach)\n",
    "    B1 = table_5_16(lambd_oper, tg_khi_05_oper, Mach)\n",
    "    m_z_wz_oper = (mz_wz_cya_iz_kr - B1 * (1 / 2 - x_ct_oper_) - 57.3 * (1 / 2 - x_ct_oper_)**2) * K_aa_oper * Cy_alpha_k_oper\n",
    "\n",
    "    x_ct_stab_ = (x_ct - x_b_a_stab) / b_a_stab\n",
    "    mz_wz_cya_iz_stab = table_5_15(nu_stab, lambd_stab, tg_khi_05_stab, Mach)\n",
    "    B1 = table_5_16(lambd_stab, tg_khi_05_stab, Mach)\n",
    "    m_z_wz_stab = (mz_wz_cya_iz_stab - B1 * (1 / 2 - x_ct_stab_) - 57.3 * (1 / 2 - x_ct_stab_)**2) * K_aa_stab * Cy_alpha_k_stab\n",
    "    \n",
    "    m_z_wz = m_z_wz_korp * (S_mid / S_mid) * (L_korp / L_korp)**2 + m_z_wz_oper * (S_oper / S_mid) * (b_a_oper / L_korp)**2 * np.sqrt(K_t_oper) + m_z_wz_stab * (S_stab / S_mid) * (b_a_stab / L_korp)**2 * np.sqrt(K_t_stab)\n",
    "\n",
    "    # Балансировочная зависимость\n",
    "    M_z_delt = Сy_delt_oper * (x_ct - x_fd_oper) / L_korp\n",
    "    M_z_alpha = Cy_alpha * (x_ct - x_fa) / L_korp\n",
    "    ballans_relation = -(M_z_alpha / M_z_delt)\n",
    "\n",
    "    \n",
    "    # Запас статической устойчивости\n",
    "    m_z_cy = (x_ct - x_fa) / L_korp\n",
    "    \n",
    "    \n",
    "    return {\n",
    "        'Cy_alpha': Cy_alpha,\n",
    "        'Cy_alpha_korp': Cy_alpha_korp,\n",
    "        'Cy_alpha_oper': Cy_alpha_oper,\n",
    "        'Cy_alpha_stab': Cy_alpha_stab,\n",
    "        'Cx': Cx,\n",
    "        'Cx_0': Cx_0,\n",
    "        'Cx_0_korp': Cx_0_korp,\n",
    "        'Cx_0_oper': Cx_0_oper,\n",
    "        'Cx_0_stab': Cx_0_stab,\n",
    "        'Cx_ind': Cx_ind,\n",
    "        'Cx_ind_korp': Cx_ind_korp,\n",
    "        'Cx_ind_oper': Cx_ind_oper,\n",
    "        'Cx_ind_stab': Cx_ind_stab,\n",
    "        'x_fa': x_fa,\n",
    "        'x_fa_korp': x_fa_korp,\n",
    "        'x_fa_oper': x_fa_oper,\n",
    "        'x_fa_stab': x_fa_stab,\n",
    "        'x_fd_oper': x_fd_oper,\n",
    "        'm_z_cy': m_z_cy,\n",
    "        'm_z_wz': m_z_wz,\n",
    "        'm_z_wz_korp': m_z_wz_korp,\n",
    "        'm_z_wz_oper': m_z_wz_oper,\n",
    "        'm_z_wz_stab': m_z_wz_stab,\n",
    "        'ballans_relation': ballans_relation,\n",
    "        'M_z_alpha': M_z_alpha,\n",
    "        'M_z_delt': M_z_delt\n",
    "    }\n",
    "\n",
    "def foo_aero(solve):\n",
    "    \n",
    "    Cya = []\n",
    "    Cy_alpha_korp = []\n",
    "    Cy_alpha_oper = []\n",
    "    Cy_alpha_stab = []\n",
    "    Cx = []\n",
    "    Cx_0 = []\n",
    "    Cx_ind = []\n",
    "    Cx_0_korp = []\n",
    "    Cx_ind_korp = []\n",
    "    Cx_0_oper = []\n",
    "    Cx_ind_oper = []\n",
    "    Cx_0_stab = []\n",
    "    Cx_ind_stab = []\n",
    "    m_z_cy = []\n",
    "    m_z_wz = []\n",
    "    m_z_wz_korp = []\n",
    "    m_z_wz_oper = []\n",
    "    m_z_wz_stab = []\n",
    "    x_fa = []\n",
    "    x_fa_korp = []\n",
    "    x_fa_oper = []\n",
    "    x_fa_stab = []\n",
    "    x_fd_oper = []\n",
    "    ballans_relation = []\n",
    "    M_z_alpha = []\n",
    "    M_z_delt = []\n",
    "    t = []\n",
    "    \n",
    "    for r in range(len(solve['t'])):\n",
    "        arg = [solve['missile']['v'][r], solve['missile']['x'][r], solve['missile']['y'][r], solve['missile']['alpha'][r], solve['t'][r]]\n",
    "        res_aero = aero_coef(arg)\n",
    "        \n",
    "        Cya.append(res_aero['Cy_alpha'])\n",
    "        Cy_alpha_korp.append(res_aero['Cy_alpha_korp'])\n",
    "        Cy_alpha_oper.append(res_aero['Cy_alpha_oper'])\n",
    "        Cy_alpha_stab.append(res_aero['Cy_alpha_stab'])\n",
    "        \n",
    "        Cx.append(res_aero['Cx'])\n",
    "        Cx_0.append(res_aero['Cx_0'])\n",
    "        Cx_ind.append(res_aero['Cx_ind'])\n",
    "        Cx_0_korp.append(res_aero['Cx_0_korp'])\n",
    "        Cx_ind_korp.append(res_aero['Cx_ind_korp'])\n",
    "        Cx_0_oper.append(res_aero['Cx_0_oper'])\n",
    "        Cx_ind_oper.append(res_aero['Cx_ind_oper'])\n",
    "        Cx_0_stab.append(res_aero['Cx_0_stab'])\n",
    "        Cx_ind_stab.append(res_aero['Cx_ind_stab'])\n",
    "        \n",
    "        m_z_cy.append(res_aero['m_z_cy'])\n",
    "        m_z_wz.append(res_aero['m_z_wz'])\n",
    "        m_z_wz_korp.append(res_aero['m_z_wz_korp'])\n",
    "        m_z_wz_oper.append(res_aero['m_z_wz_oper'])\n",
    "        m_z_wz_stab.append(res_aero['m_z_wz_stab'])\n",
    "        \n",
    "        x_fa.append(res_aero['x_fa'])\n",
    "        x_fa_korp.append(res_aero['x_fa_korp'])\n",
    "        x_fa_oper.append(res_aero['x_fa_oper'])\n",
    "        x_fa_stab.append(res_aero['x_fa_stab'])\n",
    "        x_fd_oper.append(res_aero['x_fd_oper'])\n",
    "        \n",
    "        ballans_relation.append(res_aero['ballans_relation'])\n",
    "        M_z_alpha.append(res_aero['M_z_alpha'])\n",
    "        M_z_delt.append(res_aero['M_z_delt'])\n",
    "        \n",
    "        t.append(solve['t'][r])\n",
    "        \n",
    "    return {\n",
    "        'Cy_alpha': Cya,\n",
    "        'Cy_alpha_korp': Cy_alpha_korp,\n",
    "        'Cy_alpha_oper': Cy_alpha_oper,\n",
    "        'Cy_alpha_stab': Cy_alpha_stab,\n",
    "        'Cx': Cx,\n",
    "        'Cx_0': Cx_0,\n",
    "        'Cx_0_korp': Cx_0_korp,\n",
    "        'Cx_0_oper': Cx_0_oper,\n",
    "        'Cx_0_stab': Cx_0_stab,\n",
    "        'Cx_ind': Cx_ind,\n",
    "        'Cx_ind_korp': Cx_ind_korp,\n",
    "        'Cx_ind_oper': Cx_ind_oper,\n",
    "        'Cx_ind_stab': Cx_ind_stab,\n",
    "        'x_fa': x_fa,\n",
    "        'x_fa_korp': x_fa_korp,\n",
    "        'x_fa_oper': x_fa_oper,\n",
    "        'x_fa_stab': x_fa_stab,\n",
    "        'x_fd_oper': x_fd_oper,\n",
    "        'm_z_cy': m_z_cy,\n",
    "        'm_z_wz': m_z_wz,\n",
    "        'm_z_wz_korp': m_z_wz_korp,\n",
    "        'm_z_wz_oper': m_z_wz_oper,\n",
    "        'm_z_wz_stab': m_z_wz_stab,\n",
    "        'ballans_relation': ballans_relation,\n",
    "        'M_z_alpha': M_z_alpha,\n",
    "        'M_z_delt': M_z_delt,\n",
    "        't': t\n",
    "    }"
   ]
  },
  {
   "cell_type": "code",
   "execution_count": 123,
   "id": "8609ed7b",
   "metadata": {},
   "outputs": [],
   "source": [
    "b_0_oper, S_oper, x_b_oper, L_oper, khi_pk_oper, c_oper = 0.110, 0.0494, 2.529, 0.380, 0, 0.03\n",
    "b_0_stab, S_stab, x_b_stab, L_stab, khi_pk_stab, c_stab = 0.110, 0.03751, 2.410, 0.380, 49, 0.03\n",
    "betta_kon1 = 15\n",
    "F_f = 1.613752818061\n",
    "W_nos = 0.017674\n",
    "khi_rul = 0\n",
    "class_korp = 7\n",
    "class_oper = 5\n",
    "class_stab = 5\n",
    "a = 0.2"
   ]
  },
  {
   "cell_type": "code",
   "execution_count": 124,
   "id": "2c325833",
   "metadata": {},
   "outputs": [],
   "source": [
    "# Вычисление геометрии корпуса:\n",
    "L_nos = L_1 + L_2\n",
    "S_mid = np.pi * d**2 / 4\n",
    "S_dno = np.pi * d_korm**2 / 4\n",
    "    \n",
    "lambd_korp = L_korp / d\n",
    "lambd_nos = L_nos / d\n",
    "lambd_cil = L_cil / d\n",
    "lambd_korm = L_korm / d\n",
    "nu_korm = d_korm / d  \n",
    "    \n",
    "# Вычисление геометрии рулей (оперения):\n",
    "D_oper = d / L_oper\n",
    "L_k_oper = L_oper - d\n",
    "tg_khi_pk_oper = np.tan(np.radians(khi_pk_oper))\n",
    "lambd_oper = L_oper**2 / S_oper\n",
    "nu_oper = (S_oper / (L_oper * b_0_oper) - 0.5) ** (-1) / 2\n",
    "b_k_oper = b_0_oper / nu_oper\n",
    "b_a_oper = 4 / 3 * S_oper / L_oper * (1 - (nu_oper / (nu_oper + 1) ** 2))\n",
    "b_b_oper = b_0_oper * (1 - (nu_oper - 1) / nu_oper * d / L_oper)\n",
    "z_a_oper = L_oper / 6 * ((nu_oper + 2) / (nu_oper + 1))\n",
    "S_k_oper = S_oper * (1 - ((nu_oper - 1) / (nu_oper + 1)) * d / L_oper) * (1 - d / L_oper)\n",
    "nu_k_oper = nu_oper - d / L_oper * (nu_oper - 1)\n",
    "lambd_k_oper = lambd_oper * ((1 - d / L_oper) / (1 - ((nu_oper - 1) / (nu_oper + 1) * d / L_oper)))\n",
    "tg_khi_05_oper = tg_khi_pk_oper - 2 / lambd_oper * (nu_k_oper - 1) / (nu_k_oper + 1)\n",
    "a_oper = 2/3 * b_b_oper\n",
    "K_oper = 1 / (1 - a_oper / b_a_oper)\n",
    "L_hv_oper = L_korp - x_b_oper - b_b_oper\n",
    "L1 = x_b_oper + b_b_oper/2\n",
    "if tg_khi_pk_oper == 0:\n",
    "    x_b_a_oper = x_b_oper\n",
    "else:\n",
    "    x_b_a_oper = x_b_oper + (z_a_oper - d / 2) * tg_khi_pk_oper\n",
    "    \n",
    "# Вычисление геометрии крыльев (стабилизаторов):\n",
    "D_stab = d / L_stab\n",
    "L_k_stab = L_stab - d\n",
    "tg_khi_pk_stab = np.tan(np.radians(khi_pk_stab))\n",
    "lambd_stab = L_stab**2 / S_stab\n",
    "nu_stab = (S_stab / (L_stab * b_0_stab) - 0.5) ** (-1) / 2\n",
    "b_k_stab = b_0_stab / nu_stab\n",
    "b_a_stab = 4 / 3 * S_stab / L_stab * (1 - (nu_stab / (nu_stab + 1) ** 2))\n",
    "b_b_stab = b_0_stab * (1 - (nu_stab - 1) / nu_stab * d / L_stab)\n",
    "z_a_stab = L_stab / 6 * ((nu_stab + 2) / (nu_stab + 1))\n",
    "S_k_stab = S_stab * (1 - ((nu_stab - 1) / (nu_stab + 1)) * d / L_stab) * (1 - d / L_stab)\n",
    "nu_k_stab = nu_stab - d / L_stab * (nu_stab - 1)\n",
    "lambd_k_stab = lambd_stab * ((1 - d / L_stab) / (1 - ((nu_stab - 1) / (nu_stab + 1) * d / L_stab)))\n",
    "tg_khi_05_stab = tg_khi_pk_stab - 2 / lambd_stab * (nu_k_stab - 1) / (nu_k_stab + 1)\n",
    "a_stab = 2/3 * b_b_stab\n",
    "K_stab = 1 / (1 - a_stab / b_a_stab)\n",
    "L_hv_stab = L_korp - x_b_stab - b_b_stab\n",
    "L1 = x_b_stab + b_b_stab/2\n",
    "if tg_khi_pk_stab == 0:\n",
    "    x_b_a_stab = x_b_stab\n",
    "else:\n",
    "    x_b_a_stab = x_b_stab + (z_a_stab - d / 2) * tg_khi_pk_stab"
   ]
  },
  {
   "cell_type": "code",
   "execution_count": 125,
   "id": "77ddde61",
   "metadata": {},
   "outputs": [
    {
     "data": {
      "text/plain": [
       "0.86301"
      ]
     },
     "execution_count": 125,
     "metadata": {},
     "output_type": "execute_result"
    }
   ],
   "source": [
    "L_nos"
   ]
  },
  {
   "cell_type": "code",
   "execution_count": 126,
   "id": "096214f5",
   "metadata": {},
   "outputs": [
    {
     "data": {
      "text/plain": [
       "(2.923076923076923,\n",
       " 0.7333333333333335,\n",
       " 0.14999999999999997,\n",
       " 0.13105263157894737,\n",
       " 0.025294736842105262)"
      ]
     },
     "execution_count": 126,
     "metadata": {},
     "output_type": "execute_result"
    }
   ],
   "source": [
    "lambd_oper, nu_oper, b_k_oper, b_b_oper, S_k_oper"
   ]
  },
  {
   "cell_type": "code",
   "execution_count": 127,
   "id": "eb514f93",
   "metadata": {},
   "outputs": [
    {
     "data": {
      "text/plain": [
       "(3.8496400959744066,\n",
       " 1.2582781456953644,\n",
       " 0.08742105263157893,\n",
       " 0.0981163434903047,\n",
       " 0.01669836565096953)"
      ]
     },
     "execution_count": 127,
     "metadata": {},
     "output_type": "execute_result"
    }
   ],
   "source": [
    "lambd_stab, nu_stab, b_k_stab, b_b_stab, S_k_stab"
   ]
  },
  {
   "cell_type": "code",
   "execution_count": 128,
   "id": "1581fb32",
   "metadata": {},
   "outputs": [
    {
     "data": {
      "text/plain": [
       "(13.500049999999998, 4.31505, 8.98, 0.205, 0.9652)"
      ]
     },
     "execution_count": 128,
     "metadata": {},
     "output_type": "execute_result"
    }
   ],
   "source": [
    "lambd_korp, lambd_nos, lambd_cil, lambd_korm, nu_korm"
   ]
  },
  {
   "cell_type": "code",
   "execution_count": 129,
   "id": "b0305db2",
   "metadata": {},
   "outputs": [
    {
     "data": {
      "text/plain": [
       "0.6601517839542678"
      ]
     },
     "execution_count": 129,
     "metadata": {},
     "output_type": "execute_result"
    }
   ],
   "source": [
    "S_k_stab / S_k_oper "
   ]
  },
  {
   "cell_type": "code",
   "execution_count": 130,
   "id": "88257af4",
   "metadata": {},
   "outputs": [],
   "source": [
    "res_aero = foo_aero(res_hit)"
   ]
  },
  {
   "cell_type": "code",
   "execution_count": 131,
   "id": "491dd293",
   "metadata": {},
   "outputs": [
    {
     "data": {
      "application/vnd.jupyter.widget-view+json": {
       "model_id": "86907af8dd2248abb27f41a927171cbd",
       "version_major": 2,
       "version_minor": 0
      },
      "text/plain": [
       "interactive(children=(IntSlider(value=242, description='tau', max=242), Output()), _dom_classes=('widget-inter…"
      ]
     },
     "metadata": {},
     "output_type": "display_data"
    }
   ],
   "source": [
    "@interact(i=ipywidgets.IntSlider(description='tau', max=len(res_hit['t'])-1, step=1, value=len(res_hit['t'])-1))\n",
    "def draw_aero_gym_hit(i):\n",
    "    \n",
    "    plt.figure(figsize=(16,12))\n",
    "\n",
    "    ax00 = subplot2grid((8, 4), (0, 2), colspan=2, rowspan=2)\n",
    "    ax01 = subplot2grid((8, 4), (0, 0), colspan=2, rowspan=2)\n",
    "    ax02 = subplot2grid((8, 4), (2, 0), colspan=2, rowspan=2)\n",
    "    ax03 = subplot2grid((8, 4), (4, 0), colspan=2, rowspan=2,sharex=ax02)\n",
    "    ax04 = subplot2grid((8, 4), (2, 2), colspan=2, rowspan=2,sharex=ax02)\n",
    "    ax05 = subplot2grid((8, 4), (4, 2), colspan=2, rowspan=2,sharex=ax02)\n",
    "    ax06 = subplot2grid((8, 4), (6, 0), colspan=2, rowspan=2,sharex=ax02)\n",
    "    ax07 = subplot2grid((8, 4), (6, 2), colspan=2, rowspan=2,sharex=ax02)\n",
    "    \n",
    "    ax00.plot(res_aero['t'][:i], res_hit['missile']['alpha'][:i], lw=3, ls=':', color='k', label='$alpha$')\n",
    "    ax00.legend(loc='best', fontsize=14)\n",
    "    ax00.tick_params(left=False, labelleft=False, right=True, labelright=True,  pad = 0, labelsize=12)\n",
    "    ax00.grid(True)\n",
    "    \n",
    "    ax01.plot(res_aero['t'][:i], res_hit['missile']['v'][:i], lw=3, ls=':', color='k', label='скорость ракеты')\n",
    "    ax01.tick_params(labelsize=12, pad = 0)\n",
    "    ax01.legend(loc='best', fontsize=14)\n",
    "    ax01.grid(True)\n",
    "    \n",
    "    ax02.plot(res_aero['t'][:i], res_aero['Cy_alpha'][:i], label='$C_{Y.ЛА}^{a}$', c='k')\n",
    "    ax02.plot(res_aero['t'][:i], res_aero['Cy_alpha_korp'][:i], label='$C_{Y.корп}^{a}$', c='blue')\n",
    "    ax02.plot(res_aero['t'][:i], res_aero['Cy_alpha_oper'][:i], label='$C_{Y.опер}^{a}$', c='darkorange')\n",
    "    ax02.tick_params(labeltop=False, top=False, labelbottom=False, bottom=False, labelsize=12)\n",
    "    ax02.legend(fontsize=14)\n",
    "    ax02.grid(True)\n",
    "    \n",
    "    ax03.plot(res_aero['t'][:i], res_aero['Cx'][:i], label='$C_{X.ЛА}$', c='k')\n",
    "    ax03.plot(res_aero['t'][:i], res_aero['Cx_0'][:i], label=r'$C_{X0.ЛА}$', c='k', ls='-.')\n",
    "    ax03.plot(res_aero['t'][:i], res_aero['Cx_ind'][:i], label=r'$C_{Xind.ЛА}$', c='k', ls='--')\n",
    "    ax03.plot(res_aero['t'][:i], res_aero['Cx_0_korp'][:i], label=r'$C_{X0.корп}$', c='blue', ls='-.')\n",
    "    ax03.plot(res_aero['t'][:i], res_aero['Cx_ind_korp'][:i], label=r'$C_{Xind.корп}$', c='blue', ls='--')\n",
    "    ax03.plot(res_aero['t'][:i], res_aero['Cx_0_oper'][:i], label=r'$C_{X0.опер}$', c='darkorange', ls='-.')\n",
    "    ax03.plot(res_aero['t'][:i], res_aero['Cx_ind_oper'][:i], label=r'$C_{Xind.опер}$', c='darkorange', ls='--')\n",
    "    ax03.legend(loc='best', ncol=3, fontsize=14)\n",
    "    ax03.tick_params(left=True, labelleft=True, labelbottom=False, bottom=False, labelsize=12)\n",
    "    ax03.grid(True)\n",
    "    \n",
    "    ax04.plot(res_aero['t'][:i], res_aero['m_z_wz'][:i], label='$m_z^{wz}$', color='black', ls='-')\n",
    "    ax04.plot(res_aero['t'][:i], res_aero['m_z_wz_korp'][:i], label='$m_{z.корп}^{wz}$', color='blue', ls='--')\n",
    "    ax04.plot(res_aero['t'][:i], res_aero['m_z_wz_oper'][:i], label='$m_{z.опер}^{wz}$', color='darkorange', ls='-.')\n",
    "    ax04.tick_params(labeltop=False, top=False, pad = 5, left=False, labelleft=False, right=True, labelright=True, labelbottom=False, bottom=False, labelsize=12)\n",
    "    ax04.legend(fontsize=14)\n",
    "    ax04.grid(True)\n",
    "       \n",
    "    ax05.plot(res_aero['t'][:i], res_aero['x_fa'][:i], color='k', label='$x_{fa}$')\n",
    "    ax05.plot(res_aero['t'][:i], res_aero['x_fa_korp'][:i], color='blue', label='$x_{fa.korp}$')\n",
    "    ax05.plot(res_aero['t'][:i], res_aero['x_fa_oper'][:i], color='darkorange', label='$x_{fa.oper}$')\n",
    "    ax05.tick_params(left=False, labelleft=False, right=True, labelright=True, labelbottom=False, bottom=False, labelsize=12)\n",
    "    ax05.legend(fontsize=14)\n",
    "    ax05.grid(True)\n",
    "    \n",
    "    ax06.plot(res_aero['t'][:i], res_aero['m_z_cy'][:i], label='$m_z^{Cy}$', color='k')\n",
    "    ax06.plot(res_aero['t'][:i], res_aero['M_z_delt'][:i], label='$M_{z}^δ$', ls='-.', color='k')\n",
    "    ax06.plot(res_aero['t'][:i], res_aero['M_z_alpha'][:i], label='$M_{z}^α$', ls='--',color='k')\n",
    "    ax06.tick_params(labelbottom=True, bottom=True, labelsize=12)\n",
    "    ax06.legend(fontsize=14, loc='right')\n",
    "    ax06.grid(True)\n",
    "    \n",
    "    ax07.plot(res_aero['t'][:i], res_aero['ballans_relation'][:i], label='$δ / α$', color='k')\n",
    "    ax07.tick_params(left=False, labelleft=False, right=True, labelright=True, labelbottom=True, bottom=True, labelsize=12)\n",
    "    ax07.legend(fontsize=14)\n",
    "    ax07.grid(True)\n",
    "    \n",
    "#     plt.savefig('pictures/Аэродинамика ЛА.png', dpi=300, bbox_inches='tight')\n",
    "    \n",
    "    plt.show()"
   ]
  },
  {
   "cell_type": "code",
   "execution_count": null,
   "id": "ba4694cd",
   "metadata": {},
   "outputs": [],
   "source": []
  }
 ],
 "metadata": {
  "kernelspec": {
   "display_name": "Python 3 (ipykernel)",
   "language": "python",
   "name": "python3"
  },
  "language_info": {
   "codemirror_mode": {
    "name": "ipython",
    "version": 3
   },
   "file_extension": ".py",
   "mimetype": "text/x-python",
   "name": "python",
   "nbconvert_exporter": "python",
   "pygments_lexer": "ipython3",
   "version": "3.9.13"
  }
 },
 "nbformat": 4,
 "nbformat_minor": 5
}
